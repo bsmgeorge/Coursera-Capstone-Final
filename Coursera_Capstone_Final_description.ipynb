{
 "cells": [
  {
   "cell_type": "code",
   "execution_count": 2,
   "metadata": {},
   "outputs": [],
   "source": [
    "# My plan to open a chinese restruant in Toronto financial district"
   ]
  },
  {
   "cell_type": "code",
   "execution_count": null,
   "metadata": {},
   "outputs": [],
   "source": []
  },
  {
   "cell_type": "code",
   "execution_count": 4,
   "metadata": {},
   "outputs": [],
   "source": [
    "# Toronto is biggest city of Canada, its financial district is almost the same as Manhattan in New York, I study the \"Downtown Toronto\""
   ]
  },
  {
   "cell_type": "code",
   "execution_count": 6,
   "metadata": {},
   "outputs": [],
   "source": [
    "# financial area in Toronto, and most appear kinds of store, apply the FourSquare geographic data, to give the recommandation of me."
   ]
  },
  {
   "cell_type": "code",
   "execution_count": null,
   "metadata": {},
   "outputs": [],
   "source": []
  },
  {
   "cell_type": "code",
   "execution_count": null,
   "metadata": {},
   "outputs": [],
   "source": [
    "### One ###"
   ]
  },
  {
   "cell_type": "code",
   "execution_count": null,
   "metadata": {},
   "outputs": [],
   "source": []
  },
  {
   "cell_type": "code",
   "execution_count": 7,
   "metadata": {},
   "outputs": [],
   "source": [
    "# The Toronto latitude and longititude data is from Wiki information, use the postcode and area, wiht geographic data. Then read this data "
   ]
  },
  {
   "cell_type": "code",
   "execution_count": 8,
   "metadata": {},
   "outputs": [],
   "source": [
    "# to map the Toronto city. From the map we can see the profile of Toronto city."
   ]
  },
  {
   "cell_type": "code",
   "execution_count": 9,
   "metadata": {},
   "outputs": [],
   "source": [
    "# Then, we focus our attention into the \"Downtown Toronto\" area, use Foursquared data to find the nearby data, gather the data into "
   ]
  },
  {
   "cell_type": "code",
   "execution_count": 10,
   "metadata": {},
   "outputs": [],
   "source": [
    "# dataframe format file. From this file, we can prepare data to further ananlysis."
   ]
  },
  {
   "cell_type": "code",
   "execution_count": null,
   "metadata": {},
   "outputs": [],
   "source": []
  },
  {
   "cell_type": "code",
   "execution_count": 11,
   "metadata": {},
   "outputs": [],
   "source": [
    "### Two ###"
   ]
  },
  {
   "cell_type": "code",
   "execution_count": null,
   "metadata": {},
   "outputs": [],
   "source": []
  },
  {
   "cell_type": "code",
   "execution_count": 13,
   "metadata": {},
   "outputs": [],
   "source": [
    "# From the nearby data of site in Downtown area of Toronto, we use the cluster mehthod of machine learning to analysis the area characters  "
   ]
  },
  {
   "cell_type": "code",
   "execution_count": 14,
   "metadata": {},
   "outputs": [],
   "source": [
    "# We groupby the data to analysis the characters of each category. This will cause us to ready reach the final concludtion."
   ]
  },
  {
   "cell_type": "code",
   "execution_count": null,
   "metadata": {},
   "outputs": [],
   "source": []
  },
  {
   "cell_type": "code",
   "execution_count": 15,
   "metadata": {},
   "outputs": [],
   "source": [
    "### Three  ###"
   ]
  },
  {
   "cell_type": "code",
   "execution_count": null,
   "metadata": {},
   "outputs": [],
   "source": []
  },
  {
   "cell_type": "code",
   "execution_count": 16,
   "metadata": {},
   "outputs": [],
   "source": [
    "# from Geospatial data of \"Foursquared\", coupled with the cluster the machine analysis, we can analysis the area of Toronto."
   ]
  },
  {
   "cell_type": "code",
   "execution_count": 17,
   "metadata": {},
   "outputs": [],
   "source": [
    "# 1. like the mahattan in New York, the downtown toronto area of Toronto city, the most appear is \"Coffe Shop\" in Financial district of Toronto\n",
    "# this is common, as the \"TALK\" is main point in the financial area both in New York and Toronto. The next may be the restrauant or other \"eat\" \n",
    "# and \"drink\" charastic of shop. The third most appear kind of site may be difference, some area is Hotel, bakery. fast food etc."
   ]
  },
  {
   "cell_type": "code",
   "execution_count": 18,
   "metadata": {},
   "outputs": [],
   "source": [
    "# 2. I cluster the analysis the 5 cluster for the data. The most site is point 1 above, such as coffee shop, bar, restrautant ete. But my most\n",
    "# interesting is independatnt are of \"University of Toronto\", this is independent area in Toronto city. As one of cluster from 5 cluster, Its\n",
    "# charasristica is \"Café, Bakery, Bookstore, Japanese Restaurant, Bar\" 5 kind of business."
   ]
  },
  {
   "cell_type": "code",
   "execution_count": 19,
   "metadata": {},
   "outputs": [],
   "source": [
    "# 3. From above point 1, 2, I hope to open my new Chinese food restaurant in University of Toronto, this is becuase all restaurant in Toronto"
   ]
  },
  {
   "cell_type": "code",
   "execution_count": 20,
   "metadata": {},
   "outputs": [],
   "source": [
    "# city is fast food, Japaness restaurant, Vietnanese restaurant, but the high leverl Chinese food restaurant is less than normal standard."
   ]
  },
  {
   "cell_type": "code",
   "execution_count": 21,
   "metadata": {},
   "outputs": [],
   "source": [
    "# This is my main target business. So I hope to carter the education staff and student need, to open the Chinese restaurnat near "
   ]
  },
  {
   "cell_type": "code",
   "execution_count": null,
   "metadata": {},
   "outputs": [],
   "source": [
    "# University of Toronto."
   ]
  }
 ],
 "metadata": {
  "kernelspec": {
   "display_name": "Python 3.7.1 64-bit",
   "language": "python",
   "name": "python37164bitc19ad3a954324b268057325187523baa"
  },
  "language_info": {
   "codemirror_mode": {
    "name": "ipython",
    "version": 3
   },
   "file_extension": ".py",
   "mimetype": "text/x-python",
   "name": "python",
   "nbconvert_exporter": "python",
   "pygments_lexer": "ipython3",
   "version": "3.7.1"
  }
 },
 "nbformat": 4,
 "nbformat_minor": 4
}
